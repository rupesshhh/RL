{
  "nbformat": 4,
  "nbformat_minor": 0,
  "metadata": {
    "colab": {
      "provenance": []
    },
    "kernelspec": {
      "name": "python3",
      "display_name": "Python 3"
    },
    "language_info": {
      "name": "python"
    }
  },
  "cells": [
    {
      "cell_type": "markdown",
      "source": [
        "**NAME:** RUPESH DHIRWANI\n",
        "\n",
        "**CLASS:** D16AD\n",
        "\n",
        "**ROLL NO:** 10"
      ],
      "metadata": {
        "id": "FWnsWcX0oMrO"
      }
    },
    {
      "cell_type": "code",
      "source": [
        "import numpy as np\n",
        "\n",
        "class GridWorld:\n",
        "    def __init__(self, shape):\n",
        "        self.shape = shape\n",
        "        self.num_states = np.prod(shape)\n",
        "        self.num_actions = 4  # 4 possible actions: up, down, left, right\n",
        "        self.transitions = self._initialize_transitions()\n",
        "        self.rewards = np.zeros(self.num_states)\n",
        "        self.rewards[-1] = 1  # Reward of 1 at the terminal state\n",
        "\n",
        "    def _initialize_transitions(self):\n",
        "        transitions = np.zeros((self.num_states, self.num_actions, self.num_states))\n",
        "        for s in range(self.num_states):\n",
        "            i, j = np.unravel_index(s, self.shape)\n",
        "            if i > 0:\n",
        "                transitions[s, 0, np.ravel_multi_index((i-1, j), self.shape)] = 1  # Up\n",
        "            if i < self.shape[0] - 1:\n",
        "                transitions[s, 1, np.ravel_multi_index((i+1, j), self.shape)] = 1  # Down\n",
        "            if j > 0:\n",
        "                transitions[s, 2, np.ravel_multi_index((i, j-1), self.shape)] = 1  # Left\n",
        "            if j < self.shape[1] - 1:\n",
        "                transitions[s, 3, np.ravel_multi_index((i, j+1), self.shape)] = 1  # Right\n",
        "        return transitions\n",
        "\n",
        "def value_iteration(gridworld, gamma=0.9, theta=1e-6):\n",
        "    num_states = gridworld.num_states\n",
        "    num_actions = gridworld.num_actions\n",
        "    transitions = gridworld.transitions\n",
        "    rewards = gridworld.rewards\n",
        "\n",
        "    V = np.zeros(num_states)\n",
        "\n",
        "    while True:\n",
        "        delta = 0\n",
        "        for s in range(num_states):\n",
        "            v = V[s]\n",
        "            V[s] = max(np.sum(transitions[s, :, :] * (rewards + gamma * V), axis=1))\n",
        "            delta = max(delta, abs(v - V[s]))\n",
        "        if delta < theta:\n",
        "            break\n",
        "\n",
        "    policy = np.argmax(np.sum(transitions * (rewards + gamma * V), axis=2), axis=1)\n",
        "\n",
        "    return policy, V\n",
        "\n",
        "# Create a 3x4 grid world\n",
        "gridworld = GridWorld(shape=(3, 4))\n",
        "\n",
        "# Run value iteration\n",
        "policy, V = value_iteration(gridworld)\n",
        "\n",
        "print(\"Optimal Policy:\")\n",
        "print(policy.reshape(gridworld.shape))\n",
        "print(\"\\nOptimal Value Function:\")\n",
        "print(V.reshape(gridworld.shape))"
      ],
      "metadata": {
        "id": "DaVk1pSR1ETJ",
        "outputId": "4c50461c-53b8-47ec-815f-a9c1cc6c1b68",
        "colab": {
          "base_uri": "https://localhost:8080/"
        }
      },
      "execution_count": null,
      "outputs": [
        {
          "output_type": "stream",
          "name": "stdout",
          "text": [
            "Optimal Policy:\n",
            "[[1 1 1 1]\n",
            " [1 1 1 1]\n",
            " [3 3 3 0]]\n",
            "\n",
            "Optimal Value Function:\n",
            "[[3.45315401 3.83683861 4.26315475 4.73683927]\n",
            " [3.83683861 4.26315475 4.73683927 5.26315534]\n",
            " [4.26315475 4.73683927 5.26315534 4.73683981]]\n"
          ]
        }
      ]
    }
  ]
}